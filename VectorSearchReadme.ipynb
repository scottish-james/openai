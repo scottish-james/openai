{
 "cells": [
  {
   "cell_type": "markdown",
   "id": "5e1abd05",
   "metadata": {},
   "source": [
    "#  README\n",
    "## Overview\n",
    "This project provides a set of tools to process and analyze text data, specifically focusing on embedding generation and similarity calculations using OpenAI's models. The core functionalities include reading data, generating embeddings, computing cosine similarities, and searching for the most relevant answers and questions based on given input.\n",
    "\n",
    "## Dependencies\n",
    "Ensure you have the following dependencies installed:\n",
    "\n",
    "- numpy\n",
    "- pandas\n",
    "- openai\n",
    "\n",
    "You can install them using pip:\n",
    "\n",
    "```\n",
    "pip install numpy pandas openai\n",
    "\n",
    "```"
   ]
  },
  {
   "cell_type": "markdown",
   "id": "4edbb9a3",
   "metadata": {},
   "source": [
    "## Usage\n",
    "### Reading Data\n",
    "The script reads data from a CSV file (embedded.csv) that contains precomputed embeddings for answers and questions"
   ]
  },
  {
   "cell_type": "code",
   "execution_count": 1,
   "id": "8a1bb525",
   "metadata": {},
   "outputs": [
    {
     "name": "stdout",
     "output_type": "stream",
     "text": [
      "Question ID            int64\n",
      "Question              object\n",
      "Answer                object\n",
      "answer_embedding      object\n",
      "question_embedding    object\n",
      "dtype: object\n"
     ]
    }
   ],
   "source": [
    "import numpy as np\n",
    "import pandas as pd\n",
    "import openai\n",
    "\n",
    "try:\n",
    "    df = pd.read_csv('embedded.csv')\n",
    "except ValueError as e:\n",
    "    print(f\"Error reading the file: {e}\")\n",
    "else:\n",
    "    print(df.dtypes)\n",
    "\n",
    "\n"
   ]
  },
  {
   "cell_type": "markdown",
   "id": "a7ec1214",
   "metadata": {},
   "source": [
    "## Setting Up OpenAI API\n",
    "Ensure you have your OpenAI API key stored in a text file (api_key.txt). The script reads this key to initialize the OpenAI client."
   ]
  },
  {
   "cell_type": "code",
   "execution_count": 2,
   "id": "051a380a",
   "metadata": {},
   "outputs": [],
   "source": [
    "with open('api_key.txt', 'r') as file:\n",
    "    api_key_1 = file.read().strip()\n",
    "\n",
    "openai.api_key = api_key_1"
   ]
  },
  {
   "cell_type": "markdown",
   "id": "0f9b17df",
   "metadata": {},
   "source": [
    "## Data Preparation\n",
    "Convert the string representations of embeddings back to numpy arrays for further processing."
   ]
  },
  {
   "cell_type": "code",
   "execution_count": 3,
   "id": "40791845-d8cd-4835-b124-8fafb848e1e9",
   "metadata": {},
   "outputs": [],
   "source": [
    "df['answer_embedding'] = df['answer_embedding'].apply(eval).apply(np.array)\n",
    "df['question_embedding'] = df['question_embedding'].apply(eval).apply(np.array)"
   ]
  },
  {
   "cell_type": "markdown",
   "id": "5e33f478",
   "metadata": {},
   "source": [
    "## Functions\n",
    "### get_embedding\n",
    "Generates an embedding for a given text using a specified model."
   ]
  },
  {
   "cell_type": "code",
   "execution_count": 4,
   "id": "3b15105f",
   "metadata": {},
   "outputs": [],
   "source": [
    "def get_embedding(text, model=\"text-embedding-3-small\"):\n",
    "    \"\"\"\n",
    "    Generate an embedding for a given text using a specified model.\n",
    "    \"\"\"\n",
    "    text = text.replace(\"\\n\", \" \")\n",
    "    return openai.embeddings.create(input=[text], model=model).data[0].embedding\n"
   ]
  },
  {
   "cell_type": "markdown",
   "id": "263d6919",
   "metadata": {},
   "source": [
    "### cosine_similarity\n",
    "Calculates the cosine similarity between two vectors."
   ]
  },
  {
   "cell_type": "code",
   "execution_count": 5,
   "id": "cef0ccb7",
   "metadata": {},
   "outputs": [],
   "source": [
    "def cosine_similarity(a, b):\n",
    "    \"\"\"\n",
    "    Calculate the cosine similarity between two vectors.\n",
    "    \"\"\"\n",
    "    dot_product = sum(x * y for x, y in zip(a, b))\n",
    "    magnitude_a = sum(x * x for x in a) ** 0.5\n",
    "    magnitude_b = sum(y * y for y in b) ** 0.5\n",
    "    return dot_product / (magnitude_a * magnitude_b)\n"
   ]
  },
  {
   "cell_type": "markdown",
   "id": "b63f8f9d",
   "metadata": {},
   "source": [
    "### search_reviews_answer\n",
    "Finds and returns the top N most similar answers based on a question."
   ]
  },
  {
   "cell_type": "code",
   "execution_count": 6,
   "id": "0a3658a2",
   "metadata": {},
   "outputs": [],
   "source": [
    "def search_reviews_answer(df, question, n=3, pprint=True):\n",
    "    \"\"\"\n",
    "    Find and return the top N most similar answers based on a question.\n",
    "    \"\"\"\n",
    "    embedding = get_embedding(question, model='text-embedding-3-small')\n",
    "    df['similarities_answers'] = df['answer_embedding'].apply(lambda x: cosine_similarity(x, embedding))\n",
    "    res = df.sort_values('similarities_answers', ascending=False).head(n)\n",
    "    return res\n"
   ]
  },
  {
   "cell_type": "markdown",
   "id": "e1b751f4",
   "metadata": {},
   "source": [
    "### search_reviews_question\n",
    "Finds and returns the top N most similar questions based on an input question."
   ]
  },
  {
   "cell_type": "code",
   "execution_count": 7,
   "id": "005615f3",
   "metadata": {},
   "outputs": [],
   "source": [
    "def search_reviews_question(df, question, n=3, pprint=True):\n",
    "    \"\"\"\n",
    "    Find and return the top N most similar questions based on an input question.\n",
    "    \"\"\"\n",
    "    embedding = get_embedding(question, model='text-embedding-3-small')\n",
    "    df['similarities_questions'] = df['question_embedding'].apply(lambda x: cosine_similarity(x, embedding))\n",
    "    res = df.sort_values('similarities_questions', ascending=False).head(n)\n",
    "    return res\n"
   ]
  },
  {
   "cell_type": "markdown",
   "id": "1c8de2be",
   "metadata": {},
   "source": [
    "## Examples\n",
    "Finding the top 10 most similar answers to the question \"open times\":"
   ]
  },
  {
   "cell_type": "code",
   "execution_count": 8,
   "id": "df757391",
   "metadata": {},
   "outputs": [
    {
     "data": {
      "text/html": [
       "<div>\n",
       "<style scoped>\n",
       "    .dataframe tbody tr th:only-of-type {\n",
       "        vertical-align: middle;\n",
       "    }\n",
       "\n",
       "    .dataframe tbody tr th {\n",
       "        vertical-align: top;\n",
       "    }\n",
       "\n",
       "    .dataframe thead th {\n",
       "        text-align: right;\n",
       "    }\n",
       "</style>\n",
       "<table border=\"1\" class=\"dataframe\">\n",
       "  <thead>\n",
       "    <tr style=\"text-align: right;\">\n",
       "      <th></th>\n",
       "      <th>Question ID</th>\n",
       "      <th>Question</th>\n",
       "      <th>Answer</th>\n",
       "      <th>answer_embedding</th>\n",
       "      <th>question_embedding</th>\n",
       "      <th>similarities_answers</th>\n",
       "    </tr>\n",
       "  </thead>\n",
       "  <tbody>\n",
       "    <tr>\n",
       "      <th>8</th>\n",
       "      <td>9</td>\n",
       "      <td>What are the branch opening hours?</td>\n",
       "      <td>Our branches are open from 9 AM to 5 PM, Monda...</td>\n",
       "      <td>[-0.01136218011379242, 0.0748688355088234, 0.0...</td>\n",
       "      <td>[-0.03722250834107399, 0.07355938851833344, 0....</td>\n",
       "      <td>0.299570</td>\n",
       "    </tr>\n",
       "    <tr>\n",
       "      <th>1</th>\n",
       "      <td>2</td>\n",
       "      <td>How can I open a checking account?</td>\n",
       "      <td>You can open a checking account by visiting an...</td>\n",
       "      <td>[0.010874899104237556, 0.04530753940343857, 0....</td>\n",
       "      <td>[0.03132950887084007, 0.031158041208982468, 0....</td>\n",
       "      <td>0.234716</td>\n",
       "    </tr>\n",
       "    <tr>\n",
       "      <th>18</th>\n",
       "      <td>19</td>\n",
       "      <td>How do I close my account?</td>\n",
       "      <td>To close your account, visit any of our branch...</td>\n",
       "      <td>[0.04966616630554199, 0.03897934779524803, 0.0...</td>\n",
       "      <td>[0.04915893077850342, 0.014077764004468918, 0....</td>\n",
       "      <td>0.187534</td>\n",
       "    </tr>\n",
       "    <tr>\n",
       "      <th>11</th>\n",
       "      <td>12</td>\n",
       "      <td>Can I get a loan to buy a car?</td>\n",
       "      <td>Yes, we offer auto loans with competitive inte...</td>\n",
       "      <td>[-0.02668355219066143, 0.019259411841630936, 0...</td>\n",
       "      <td>[-0.002607405884191394, -0.03094622679054737, ...</td>\n",
       "      <td>0.184700</td>\n",
       "    </tr>\n",
       "    <tr>\n",
       "      <th>15</th>\n",
       "      <td>16</td>\n",
       "      <td>Can I get a statement copy?</td>\n",
       "      <td>Yes, you can request a statement copy through ...</td>\n",
       "      <td>[0.031010989099740982, -0.023339280858635902, ...</td>\n",
       "      <td>[0.026227407157421112, -0.020656602457165718, ...</td>\n",
       "      <td>0.178007</td>\n",
       "    </tr>\n",
       "    <tr>\n",
       "      <th>13</th>\n",
       "      <td>14</td>\n",
       "      <td>How do I update my contact information?</td>\n",
       "      <td>You can update your contact information throug...</td>\n",
       "      <td>[0.01906469650566578, -0.014860356226563454, 0...</td>\n",
       "      <td>[0.02334478124976158, -0.028389401733875275, 0...</td>\n",
       "      <td>0.169532</td>\n",
       "    </tr>\n",
       "    <tr>\n",
       "      <th>9</th>\n",
       "      <td>10</td>\n",
       "      <td>How can I check my account balance?</td>\n",
       "      <td>You can check your account balance through our...</td>\n",
       "      <td>[0.03639216721057892, 0.0075601255521178246, 0...</td>\n",
       "      <td>[0.05246749520301819, 0.010690983384847641, 0....</td>\n",
       "      <td>0.169029</td>\n",
       "    </tr>\n",
       "    <tr>\n",
       "      <th>3</th>\n",
       "      <td>4</td>\n",
       "      <td>How do I apply for a personal loan?</td>\n",
       "      <td>You can apply for a personal loan online throu...</td>\n",
       "      <td>[-0.0037767095491290092, 0.015247618779540062,...</td>\n",
       "      <td>[-0.0032004239037632942, -0.002346499124541878...</td>\n",
       "      <td>0.159263</td>\n",
       "    </tr>\n",
       "    <tr>\n",
       "      <th>4</th>\n",
       "      <td>5</td>\n",
       "      <td>What documents are required to open an account?</td>\n",
       "      <td>To open an account, you need a valid ID, proof...</td>\n",
       "      <td>[0.0847620889544487, 0.011813902296125889, 0.0...</td>\n",
       "      <td>[0.038944222033023834, 0.0715121254324913, 0.0...</td>\n",
       "      <td>0.142831</td>\n",
       "    </tr>\n",
       "    <tr>\n",
       "      <th>5</th>\n",
       "      <td>6</td>\n",
       "      <td>Can I set up automatic bill payments?</td>\n",
       "      <td>Yes, you can set up automatic bill payments th...</td>\n",
       "      <td>[0.016405565664172173, -0.02754642628133297, -...</td>\n",
       "      <td>[0.0043916646391153336, -0.03269881010055542, ...</td>\n",
       "      <td>0.136826</td>\n",
       "    </tr>\n",
       "  </tbody>\n",
       "</table>\n",
       "</div>"
      ],
      "text/plain": [
       "    Question ID                                         Question  \\\n",
       "8             9               What are the branch opening hours?   \n",
       "1             2               How can I open a checking account?   \n",
       "18           19                       How do I close my account?   \n",
       "11           12                   Can I get a loan to buy a car?   \n",
       "15           16                      Can I get a statement copy?   \n",
       "13           14          How do I update my contact information?   \n",
       "9            10              How can I check my account balance?   \n",
       "3             4              How do I apply for a personal loan?   \n",
       "4             5  What documents are required to open an account?   \n",
       "5             6            Can I set up automatic bill payments?   \n",
       "\n",
       "                                               Answer  \\\n",
       "8   Our branches are open from 9 AM to 5 PM, Monda...   \n",
       "1   You can open a checking account by visiting an...   \n",
       "18  To close your account, visit any of our branch...   \n",
       "11  Yes, we offer auto loans with competitive inte...   \n",
       "15  Yes, you can request a statement copy through ...   \n",
       "13  You can update your contact information throug...   \n",
       "9   You can check your account balance through our...   \n",
       "3   You can apply for a personal loan online throu...   \n",
       "4   To open an account, you need a valid ID, proof...   \n",
       "5   Yes, you can set up automatic bill payments th...   \n",
       "\n",
       "                                     answer_embedding  \\\n",
       "8   [-0.01136218011379242, 0.0748688355088234, 0.0...   \n",
       "1   [0.010874899104237556, 0.04530753940343857, 0....   \n",
       "18  [0.04966616630554199, 0.03897934779524803, 0.0...   \n",
       "11  [-0.02668355219066143, 0.019259411841630936, 0...   \n",
       "15  [0.031010989099740982, -0.023339280858635902, ...   \n",
       "13  [0.01906469650566578, -0.014860356226563454, 0...   \n",
       "9   [0.03639216721057892, 0.0075601255521178246, 0...   \n",
       "3   [-0.0037767095491290092, 0.015247618779540062,...   \n",
       "4   [0.0847620889544487, 0.011813902296125889, 0.0...   \n",
       "5   [0.016405565664172173, -0.02754642628133297, -...   \n",
       "\n",
       "                                   question_embedding  similarities_answers  \n",
       "8   [-0.03722250834107399, 0.07355938851833344, 0....              0.299570  \n",
       "1   [0.03132950887084007, 0.031158041208982468, 0....              0.234716  \n",
       "18  [0.04915893077850342, 0.014077764004468918, 0....              0.187534  \n",
       "11  [-0.002607405884191394, -0.03094622679054737, ...              0.184700  \n",
       "15  [0.026227407157421112, -0.020656602457165718, ...              0.178007  \n",
       "13  [0.02334478124976158, -0.028389401733875275, 0...              0.169532  \n",
       "9   [0.05246749520301819, 0.010690983384847641, 0....              0.169029  \n",
       "3   [-0.0032004239037632942, -0.002346499124541878...              0.159263  \n",
       "4   [0.038944222033023834, 0.0715121254324913, 0.0...              0.142831  \n",
       "5   [0.0043916646391153336, -0.03269881010055542, ...              0.136826  "
      ]
     },
     "execution_count": 8,
     "metadata": {},
     "output_type": "execute_result"
    }
   ],
   "source": [
    "df_answer = search_reviews_answer(df, 'open times', n=10)\n",
    "df_answer.head(10)\n"
   ]
  },
  {
   "cell_type": "markdown",
   "id": "2a3df793",
   "metadata": {},
   "source": [
    "Finding the top 3 most similar questions to the question \"open times\":"
   ]
  },
  {
   "cell_type": "code",
   "execution_count": 9,
   "id": "5777bccc",
   "metadata": {},
   "outputs": [
    {
     "data": {
      "text/html": [
       "<div>\n",
       "<style scoped>\n",
       "    .dataframe tbody tr th:only-of-type {\n",
       "        vertical-align: middle;\n",
       "    }\n",
       "\n",
       "    .dataframe tbody tr th {\n",
       "        vertical-align: top;\n",
       "    }\n",
       "\n",
       "    .dataframe thead th {\n",
       "        text-align: right;\n",
       "    }\n",
       "</style>\n",
       "<table border=\"1\" class=\"dataframe\">\n",
       "  <thead>\n",
       "    <tr style=\"text-align: right;\">\n",
       "      <th></th>\n",
       "      <th>Question ID</th>\n",
       "      <th>Question</th>\n",
       "      <th>Answer</th>\n",
       "      <th>answer_embedding</th>\n",
       "      <th>question_embedding</th>\n",
       "      <th>similarities_answers</th>\n",
       "      <th>similarities_questions</th>\n",
       "    </tr>\n",
       "  </thead>\n",
       "  <tbody>\n",
       "    <tr>\n",
       "      <th>8</th>\n",
       "      <td>9</td>\n",
       "      <td>What are the branch opening hours?</td>\n",
       "      <td>Our branches are open from 9 AM to 5 PM, Monda...</td>\n",
       "      <td>[-0.01136218011379242, 0.0748688355088234, 0.0...</td>\n",
       "      <td>[-0.03722250834107399, 0.07355938851833344, 0....</td>\n",
       "      <td>0.299570</td>\n",
       "      <td>0.374231</td>\n",
       "    </tr>\n",
       "    <tr>\n",
       "      <th>15</th>\n",
       "      <td>16</td>\n",
       "      <td>Can I get a statement copy?</td>\n",
       "      <td>Yes, you can request a statement copy through ...</td>\n",
       "      <td>[0.031010989099740982, -0.023339280858635902, ...</td>\n",
       "      <td>[0.026227407157421112, -0.020656602457165718, ...</td>\n",
       "      <td>0.178007</td>\n",
       "      <td>0.211189</td>\n",
       "    </tr>\n",
       "    <tr>\n",
       "      <th>4</th>\n",
       "      <td>5</td>\n",
       "      <td>What documents are required to open an account?</td>\n",
       "      <td>To open an account, you need a valid ID, proof...</td>\n",
       "      <td>[0.0847620889544487, 0.011813902296125889, 0.0...</td>\n",
       "      <td>[0.038944222033023834, 0.0715121254324913, 0.0...</td>\n",
       "      <td>0.142831</td>\n",
       "      <td>0.193357</td>\n",
       "    </tr>\n",
       "  </tbody>\n",
       "</table>\n",
       "</div>"
      ],
      "text/plain": [
       "    Question ID                                         Question  \\\n",
       "8             9               What are the branch opening hours?   \n",
       "15           16                      Can I get a statement copy?   \n",
       "4             5  What documents are required to open an account?   \n",
       "\n",
       "                                               Answer  \\\n",
       "8   Our branches are open from 9 AM to 5 PM, Monda...   \n",
       "15  Yes, you can request a statement copy through ...   \n",
       "4   To open an account, you need a valid ID, proof...   \n",
       "\n",
       "                                     answer_embedding  \\\n",
       "8   [-0.01136218011379242, 0.0748688355088234, 0.0...   \n",
       "15  [0.031010989099740982, -0.023339280858635902, ...   \n",
       "4   [0.0847620889544487, 0.011813902296125889, 0.0...   \n",
       "\n",
       "                                   question_embedding  similarities_answers  \\\n",
       "8   [-0.03722250834107399, 0.07355938851833344, 0....              0.299570   \n",
       "15  [0.026227407157421112, -0.020656602457165718, ...              0.178007   \n",
       "4   [0.038944222033023834, 0.0715121254324913, 0.0...              0.142831   \n",
       "\n",
       "    similarities_questions  \n",
       "8                 0.374231  \n",
       "15                0.211189  \n",
       "4                 0.193357  "
      ]
     },
     "execution_count": 9,
     "metadata": {},
     "output_type": "execute_result"
    }
   ],
   "source": [
    "df_question = search_reviews_question(df, 'open times', n=3)\n",
    "df_question.head()\n"
   ]
  },
  {
   "cell_type": "markdown",
   "id": "699c2637",
   "metadata": {},
   "source": [
    "## Notes\n",
    "- Ensure the 'embedded.csv' file is correctly formatted and contains the necessary embedding columns.\n",
    "- The OpenAI API key should be kept secure and not exposed in the codebase.\n",
    "- The embeddings and similarity calculations assume that the embeddings are valid and correctly formatted numpy array"
   ]
  },
  {
   "cell_type": "code",
   "execution_count": null,
   "id": "548dd8e1",
   "metadata": {},
   "outputs": [],
   "source": []
  }
 ],
 "metadata": {
  "kernelspec": {
   "display_name": "Python 3",
   "language": "python",
   "name": "python3"
  },
  "language_info": {
   "codemirror_mode": {
    "name": "ipython",
    "version": 3
   },
   "file_extension": ".py",
   "mimetype": "text/x-python",
   "name": "python",
   "nbconvert_exporter": "python",
   "pygments_lexer": "ipython3",
   "version": "3.8.8"
  }
 },
 "nbformat": 4,
 "nbformat_minor": 5
}
